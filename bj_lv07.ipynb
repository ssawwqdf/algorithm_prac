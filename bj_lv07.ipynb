{
 "cells": [
  {
   "cell_type": "markdown",
   "id": "cce613fd-52d8-4f56-932c-6a71c5da9c49",
   "metadata": {},
   "source": [
    "# baekjoon lv.07 : 기본수학 1"
   ]
  },
  {
   "cell_type": "markdown",
   "id": "868fae5e-e0b6-495b-ac4b-db169b7d20cb",
   "metadata": {},
   "source": [
    "## 1193 : 분수찾기"
   ]
  },
  {
   "cell_type": "markdown",
   "id": "186c99bc-c39b-4f9e-90da-08c0c4ad79c3",
   "metadata": {},
   "source": [
    "### 문제"
   ]
  },
  {
   "cell_type": "markdown",
   "id": "f847afe5-39b5-47ea-ae58-3ea8708b9752",
   "metadata": {},
   "source": [
    "무한히 큰 배열에 다음과 같이 분수들이 적혀있다.\n",
    "\n",
    "<table class=\"table table-bordered\" style=\"width:30%\">\n",
    "\t<tbody>\n",
    "\t\t<tr>\n",
    "\t\t\t<td style=\"width:5%\">1/1</td>\n",
    "\t\t\t<td style=\"width:5%\">1/2</td>\n",
    "\t\t\t<td style=\"width:5%\">1/3</td>\n",
    "\t\t\t<td style=\"width:5%\">1/4</td>\n",
    "\t\t\t<td style=\"width:5%\">1/5</td>\n",
    "\t\t\t<td style=\"width:5%\">…</td>\n",
    "\t\t</tr>\n",
    "\t\t<tr>\n",
    "\t\t\t<td>2/1</td>\n",
    "\t\t\t<td>2/2</td>\n",
    "\t\t\t<td>2/3</td>\n",
    "\t\t\t<td>2/4</td>\n",
    "\t\t\t<td>…</td>\n",
    "\t\t\t<td>…</td>\n",
    "\t\t</tr>\n",
    "\t\t<tr>\n",
    "\t\t\t<td>3/1</td>\n",
    "\t\t\t<td>3/2</td>\n",
    "\t\t\t<td>3/3</td>\n",
    "\t\t\t<td>…</td>\n",
    "\t\t\t<td>…</td>\n",
    "\t\t\t<td>…</td>\n",
    "\t\t</tr>\n",
    "\t\t<tr>\n",
    "\t\t\t<td>4/1</td>\n",
    "\t\t\t<td>4/2</td>\n",
    "\t\t\t<td>…</td>\n",
    "\t\t\t<td>…</td>\n",
    "\t\t\t<td>…</td>\n",
    "\t\t\t<td>…</td>\n",
    "\t\t</tr>\n",
    "\t\t<tr>\n",
    "\t\t\t<td>5/1</td>\n",
    "\t\t\t<td>…</td>\n",
    "\t\t\t<td>…</td>\n",
    "\t\t\t<td>…</td>\n",
    "\t\t\t<td>…</td>\n",
    "\t\t\t<td>…</td>\n",
    "\t\t</tr>\n",
    "\t\t<tr>\n",
    "\t\t\t<td>…</td>\n",
    "\t\t\t<td>…</td>\n",
    "\t\t\t<td>…</td>\n",
    "\t\t\t<td>…</td>\n",
    "\t\t\t<td>…</td>\n",
    "\t\t\t<td>…</td>\n",
    "\t\t</tr>\n",
    "\t</tbody>\n",
    "</table>\n",
    "이와 같이 나열된 분수들을 1/1 → 1/2 → 2/1 → 3/1 → 2/2 → … 과 같은 지그재그 순서로 차례대로 1번, 2번, 3번, 4번, 5번, … 분수라고 하자.\n",
    "\n",
    "X가 주어졌을 때, X번째 분수를 구하는 프로그램을 작성하시오."
   ]
  },
  {
   "cell_type": "markdown",
   "id": "acf8be0e-a8a1-4b4d-a550-11a6299ae90e",
   "metadata": {},
   "source": [
    "### input"
   ]
  },
  {
   "cell_type": "markdown",
   "id": "b53bd179-5082-4f32-927d-f483837ac02b",
   "metadata": {},
   "source": [
    "첫째 줄에 X(1 ≤ X ≤ 10,000,000)가 주어진다."
   ]
  },
  {
   "cell_type": "markdown",
   "id": "f37c0594-aadd-43dc-bcfa-11324afb7dfc",
   "metadata": {},
   "source": [
    "### output"
   ]
  },
  {
   "cell_type": "markdown",
   "id": "9d4ec0ea-281c-40bf-b7f3-017cf2a80eee",
   "metadata": {},
   "source": [
    "첫째 줄에 분수를 출력한다."
   ]
  },
  {
   "cell_type": "markdown",
   "id": "f9667ed2-0634-4ace-8173-1bc9ca8e978c",
   "metadata": {},
   "source": [
    "### 풀이"
   ]
  },
  {
   "cell_type": "markdown",
   "id": "41ae47ad-b6fd-43ab-a3ff-c6e1e015e0c3",
   "metadata": {},
   "source": [
    "`idea`  \n",
    "1. 분자는 행 분모는 열로 표현됨.\n",
    "2. 몇 번째 대각선에 있느냐는 등차수열 형태로 표현될 수 있음. 1번까지 첫번째 대각선, 2번 ~ 3번까지 두번째 대각선(2개), 4 ~ 6번까지 세번째 대각선(3개), 7 ~ 10번까지 네번째 대각선(4개)... 이런 식\n",
    "3. 몇 번째 대각선인지 구하기 : a_n = sum(i=1 ~ n: i)인 수열 있다고 할 때, a_(n-1) 초과 a_(n) 이하 값이면 n번째 대각선에 있는 것.\n",
    "4. n번째 대각선의 마지막 값은 짝수번째 줄이면 n/1, 홀수번째 줄이면 1/n\n",
    "5. X가 n번째 대각선의 마지막 값으로부터 얼마나 떨어져있는가는 a_n-X가 몇인가에 달림.\n",
    "6. 짝 : a_n-X 차이만큼 마지막줄에서 분자 감소 분모 증가\n",
    "    홀 : a_n-X 차이만큼 마지막줄에서 분자 증가 분모 감소"
   ]
  },
  {
   "cell_type": "code",
   "execution_count": 36,
   "id": "25ecc1b7-525c-4b24-b72d-10bcded4742e",
   "metadata": {},
   "outputs": [
    {
     "name": "stdin",
     "output_type": "stream",
     "text": [
      " 7\n"
     ]
    },
    {
     "name": "stdout",
     "output_type": "stream",
     "text": [
      "1/4\n"
     ]
    }
   ],
   "source": [
    "X = int(input())\n",
    "a=0; n=1 # a: a_n값. 처음에는 0, n: 몇 번째 대각선인가\n",
    "while True:\n",
    "    # print(f'a_(n-1): {a}, a_n: {a+n}, n: {n}')\n",
    "    if a < X and a+n>=X:\n",
    "        if n%2==0:\n",
    "            print(f'{n - ((a+n)-X)}/{1 + ((a+n)-X)}')\n",
    "        else:\n",
    "            print(f'{1 + ((a+n)-X)}/{n - ((a+n)-X)}')\n",
    "        break\n",
    "    else:\n",
    "        a+=n\n",
    "        n+=1"
   ]
  },
  {
   "cell_type": "markdown",
   "id": "18046790-b7b6-431e-8862-05f76f393539",
   "metadata": {},
   "source": [
    "### 1차 시도 : 실패\n",
    "이유: 분수에 띄어쓰기 없는데 띄어쓰기 넣음"
   ]
  },
  {
   "cell_type": "code",
   "execution_count": 34,
   "id": "82aafe41-fda3-40b5-b716-2e8480a410ed",
   "metadata": {},
   "outputs": [
    {
     "name": "stdin",
     "output_type": "stream",
     "text": [
      " 14\n"
     ]
    },
    {
     "name": "stdout",
     "output_type": "stream",
     "text": [
      "2 / 4\n"
     ]
    }
   ],
   "source": [
    "X = int(input())\n",
    "a=0; n=1\n",
    "while True:\n",
    "    if a < X and a+n>=X:\n",
    "        if n%2==0: print(f'{n - ((a+n)-X)} / {1 + ((a+n)-X)}')\n",
    "        else: print(f'{1 + ((a+n)-X)} / {n - ((a+n)-X)}')\n",
    "        break\n",
    "    else:\n",
    "        a+=n\n",
    "        n+=1"
   ]
  },
  {
   "cell_type": "markdown",
   "id": "9aeac7f1-ef0e-4045-9d7f-b1319fecee8f",
   "metadata": {},
   "source": [
    "### 2차 시도\n",
    "<table class=\"table table-striped table-bordered\" id=\"status-table\"><thead><tr><th style=\"width:9%;\">문제</th><th style=\"width:24%;\">결과</th><th style=\"width:9%;\">메모리</th><th style=\"width:9%;\">시간</th><th style=\"width:12%;\">언어</th><th style=\"width:9%;\">코드 길이</th></tr></thead><tbody><tr id=\"solution-45294635\" data-can-view=\"1\"><td><a href=\"/problem/1193\" rel=\"tooltip\" data-placement=\"right\" title=\"\" class=\"problem_title tooltip-click result-ac\" data-original-title=\"분수찾기\">1193</a></td><td class=\"result\"><span class=\"result-text result-ac \" data-color=\"ac\">맞았습니다!!</span></td><td class=\"memory\">30840kb<span class=\"kb-text\"></span></td><td class=\"time\">72mx<span class=\"ms-text\"></span></td><td>Python 3</td><td>229B<span class=\"b-text\"></span></td>"
   ]
  },
  {
   "cell_type": "code",
   "execution_count": 35,
   "id": "cdff62b5-2bf4-4e1b-a946-4256aac8b1dd",
   "metadata": {},
   "outputs": [
    {
     "name": "stdin",
     "output_type": "stream",
     "text": [
      " 14\n"
     ]
    },
    {
     "name": "stdout",
     "output_type": "stream",
     "text": [
      "2/4\n"
     ]
    }
   ],
   "source": [
    "X = int(input())\n",
    "a=0; n=1\n",
    "while True:\n",
    "    if a < X and a+n>=X:\n",
    "        if n%2==0: print(f'{n - ((a+n)-X)}/{1 + ((a+n)-X)}')\n",
    "        else: print(f'{1 + ((a+n)-X)}/{n - ((a+n)-X)}')\n",
    "        break\n",
    "    else:\n",
    "        a+=n\n",
    "        n+=1"
   ]
  },
  {
   "cell_type": "markdown",
   "id": "013539da-2d96-41bf-a358-8c9948034103",
   "metadata": {},
   "source": [
    "## 2869 : 달팽이는 올라가고 싶다"
   ]
  },
  {
   "cell_type": "markdown",
   "id": "62d36a91-1707-43ad-a743-c253d19f471a",
   "metadata": {},
   "source": [
    "### 문제"
   ]
  },
  {
   "cell_type": "markdown",
   "id": "6a5b7abf-1a4f-49eb-be8b-7350d323f3c2",
   "metadata": {},
   "source": [
    "땅 위에 달팽이가 있다. 이 달팽이는 높이가 V미터인 나무 막대를 올라갈 것이다.\n",
    "\n",
    "달팽이는 낮에 A미터 올라갈 수 있다. 하지만, 밤에 잠을 자는 동안 B미터 미끄러진다. 또, 정상에 올라간 후에는 미끄러지지 않는다.\n",
    "\n",
    "달팽이가 나무 막대를 모두 올라가려면, 며칠이 걸리는지 구하는 프로그램을 작성하시오.\n",
    "\n",
    "* 유의 : 시간제한 0.15초(추가 시간 없음) -> **loop 사용하면 안 됨.**"
   ]
  },
  {
   "cell_type": "markdown",
   "id": "f67906ba-558d-4261-a69f-6daeb88a8130",
   "metadata": {},
   "source": [
    "### input"
   ]
  },
  {
   "cell_type": "markdown",
   "id": "f3c43417-4eab-4b68-b320-9ecd7b37114f",
   "metadata": {},
   "source": [
    "첫째 줄에 세 정수 A, B, V가 공백으로 구분되어서 주어진다. (1 ≤ B < A ≤ V ≤ 1,000,000,000)"
   ]
  },
  {
   "cell_type": "markdown",
   "id": "13cd1d5b-783f-44fd-a520-947964033515",
   "metadata": {},
   "source": [
    "### output"
   ]
  },
  {
   "cell_type": "markdown",
   "id": "25d18409-0031-4cea-a251-27acce46d8bf",
   "metadata": {},
   "source": [
    "첫째 줄에 달팽이가 나무 막대를 모두 올라가는데 며칠이 걸리는지 출력한다."
   ]
  },
  {
   "cell_type": "markdown",
   "id": "f4dbc103-1465-4bbc-a492-c7d7569c9b74",
   "metadata": {},
   "source": [
    "### 풀이\n",
    "`idea`:\n",
    "1. 달팽이가 그날 낮에 나무 정상까지 못 올라간다면 하루가 마무리 되었을 때 올라간 높이는 (a-b)\n",
    "2. 다음날 올라가야 하는 높이는 v-(a-b)*지나온날들. 그날 낮에 a만큼 더 올랐을 때 v-(a-b)*지나온날들-a가 음수가 되면 다음날 달팽이는 등반 성공! 성공한 일차는 지나온날들+1이 된다.\n",
    "3. 식으로 정리하면 v-(a-b)*(오늘-1)-a <= 0이면 등반 성공  \n",
    "    (v-a)/(a-b) +1 <= 오늘  \n",
    "    ceil(  (v-a)/(a-b) +1  ) == 오늘  \n",
    "    ** 주의 : 소수점 살려주려면 ceil 써야됨. // 쓰면 안 된다.\n"
   ]
  },
  {
   "cell_type": "markdown",
   "id": "c14ce645-fca4-4b1b-96b9-fe70c2da1790",
   "metadata": {},
   "source": [
    "### 1차 시도 : 실패\n",
    "이유 : 생각이 완전히 정리되지 않은 상태에서 그냥 무작정 코딩함"
   ]
  },
  {
   "cell_type": "code",
   "execution_count": 73,
   "id": "2ef1bb35-39f3-4576-aecd-ed95475ef775",
   "metadata": {},
   "outputs": [
    {
     "name": "stdin",
     "output_type": "stream",
     "text": [
      " 100 99 1000000000\n"
     ]
    },
    {
     "name": "stdout",
     "output_type": "stream",
     "text": [
      "999999901\n"
     ]
    }
   ],
   "source": [
    "a, b, v = map(int, input().split())\n",
    "if (v-a) % (a-b) == 0:\n",
    "    print((v-a)//(a-b)+1)\n",
    "else:\n",
    "    print(v//(a-b)+1)"
   ]
  },
  {
   "cell_type": "markdown",
   "id": "2a72a3ac-f08c-4ca4-aeb5-42ee444e09a8",
   "metadata": {},
   "source": [
    "### 2차 시도 : 성공\n",
    "<table class=\"table table-striped table-bordered\" id=\"status-table\"><thead><tr><th style=\"width:9%;\">문제</th><th style=\"width:24%;\">결과</th><th style=\"width:9%;\">메모리</th><th style=\"width:9%;\">시간</th><th style=\"width:12%;\">언어</th><th style=\"width:9%;\">코드 길이</th</tr></thead><tbody><tr id=\"solution-45296367\" data-can-view=\"1\"><td><a href=\"/problem/2869\" rel=\"tooltip\" data-placement=\"right\" title=\"\" class=\"problem_title tooltip-click result-ac\" data-original-title=\"달팽이는 올라가고 싶다\">2869</a></td><td class=\"result\"><span class=\"result-text result-ac \" data-color=\"ac\">맞았습니다!!</span></td><td class=\"memory\">32952kb<span class=\"kb-text\"></span></td><td class=\"time\">76ms<span class=\"ms-text\"></span></td><td><a href=\"/source/45296367\">Python 3</a>&nbsp;/&nbsp;</td><td>79B\n",
    "<span class=\"b-text\"></span></td>"
   ]
  },
  {
   "cell_type": "code",
   "execution_count": 78,
   "id": "bcee0939-37dc-438c-ab61-c311a2b9bd5d",
   "metadata": {},
   "outputs": [
    {
     "name": "stdin",
     "output_type": "stream",
     "text": [
      " 100 99 1000000000\n"
     ]
    },
    {
     "name": "stdout",
     "output_type": "stream",
     "text": [
      "999999901\n"
     ]
    }
   ],
   "source": [
    "import math\n",
    "a, b, v = map(int, input().split())\n",
    "print(math.ceil((v-a)/(a-b)+1))"
   ]
  },
  {
   "cell_type": "code",
   "execution_count": null,
   "id": "03953f3c-eb6a-4434-a82e-c1436f5fcfa6",
   "metadata": {},
   "outputs": [],
   "source": []
  }
 ],
 "metadata": {
  "kernelspec": {
   "display_name": "Python 3 (ipykernel)",
   "language": "python",
   "name": "python3"
  },
  "language_info": {
   "codemirror_mode": {
    "name": "ipython",
    "version": 3
   },
   "file_extension": ".py",
   "mimetype": "text/x-python",
   "name": "python",
   "nbconvert_exporter": "python",
   "pygments_lexer": "ipython3",
   "version": "3.8.8"
  }
 },
 "nbformat": 4,
 "nbformat_minor": 5
}
